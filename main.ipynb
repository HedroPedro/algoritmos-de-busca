{
 "cells": [
  {
   "cell_type": "code",
   "execution_count": 3,
   "metadata": {},
   "outputs": [],
   "source": [
    "def build_path(path, start) -> list:\n",
    "    \"\"\"Construi um caminho do fim para o inicio, para ficar na ordem natural, inverte-se\"\"\"\n",
    "    lst = []\n",
    "    while start != '':\n",
    "        lst.append(start)\n",
    "        start = path[start]\n",
    "    return list(reversed(lst))"
   ]
  },
  {
   "cell_type": "code",
   "execution_count": 4,
   "metadata": {},
   "outputs": [],
   "source": [
    "def DFS(graph : dict[str, list], start_node : str, desired_node : str):\n",
    "    visited_nodes = set()\n",
    "    path = {val:'' for val in graph.keys()}\n",
    "    def loop(graph, node, d_node, visited, path, prev):\n",
    "        if node is None:\n",
    "            return None\n",
    "        \n",
    "        path[node] = prev\n",
    "        if node == d_node:\n",
    "            return d_node\n",
    "        \n",
    "        visited.add(node)\n",
    "\n",
    "        for val in graph[node]:\n",
    "            if val not in visited:\n",
    "                if loop(graph, val, d_node, visited_nodes, path, node) == d_node:\n",
    "                    return d_node\n",
    "    if loop(graph, start_node, desired_node, visited_nodes, path, '') == desired_node:\n",
    "        return build_path(path, desired_node)\n",
    "    \n",
    "    return None"
   ]
  },
  {
   "cell_type": "code",
   "execution_count": 5,
   "metadata": {},
   "outputs": [],
   "source": [
    "def DFS_not_rec(graph : dict[str, list], node : str, desired_node : str):\n",
    "    visited_nodes = {node}\n",
    "    path = {val:'' for val in graph.keys()}\n",
    "    stack = [i for i in reversed(graph[node])]\n",
    "\n",
    "    prev = node\n",
    "\n",
    "    while len(stack) != 0:\n",
    "        node = stack.pop()\n",
    "        path[node] = prev\n",
    "        prev = node\n",
    "\n",
    "        if node == desired_node:\n",
    "            return build_path(path, desired_node)\n",
    "        \n",
    "        visited_nodes.add(node)\n",
    "\n",
    "        for val in graph[node]:\n",
    "            if val not in visited_nodes:\n",
    "                stack.append(val)\n",
    "    return None\n"
   ]
  },
  {
   "cell_type": "code",
   "execution_count": 31,
   "metadata": {},
   "outputs": [],
   "source": [
    "# TODO: Montar o caminho\n",
    "\n",
    "def BFS(graph : dict[str, list], node : str, desired_node : str):\n",
    "    fila  = [node]\n",
    "    visited_nodes = set()\n",
    "    path = {val:\"\" for val in graph.keys()}\n",
    "    prev = ['']\n",
    "\n",
    "    while len(fila) != 0:\n",
    "        node = fila.pop(0)\n",
    "        for _ in range(len(graph[node])):\n",
    "            prev.append(node)\n",
    "\n",
    "        path[node] = prev.pop(0) \n",
    "\n",
    "        if node == desired_node:\n",
    "            return build_path(path, node)\n",
    "        \n",
    "        visited_nodes.add(node)\n",
    "\n",
    "        for val in reversed(graph[node]):\n",
    "            if val not in visited_nodes:\n",
    "                fila.append(val)\n",
    "        \n",
    "    return None"
   ]
  },
  {
   "cell_type": "code",
   "execution_count": 32,
   "metadata": {},
   "outputs": [],
   "source": [
    "def IDDFS(graph : dict[str, list], start_node, desired_node):\n",
    "    for profundidade in range(0, len(graph)*4):\n",
    "        stack = [(i, 0) for i in reversed(graph[start_node])]\n",
    "        path = {i:'' for i in graph.keys()}\n",
    "        prev = start_node\n",
    "        visited_nodes = {start_node}\n",
    "        profundidade_atual = 0\n",
    "\n",
    "        while len(stack) > 0:\n",
    "            node, profundidade_atual = stack.pop()\n",
    "            path[node] = prev\n",
    "            prev = node\n",
    "\n",
    "            if node == desired_node:\n",
    "                return build_path(path, desired_node)\n",
    "\n",
    "            if profundidade_atual < profundidade:\n",
    "                for vizinho in graph[node]:\n",
    "                    if vizinho not in visited_nodes:\n",
    "                        stack.append((vizinho, profundidade_atual+1))\n",
    "                        visited_nodes.add(vizinho)\n",
    "\n",
    "    return None"
   ]
  },
  {
   "cell_type": "code",
   "execution_count": null,
   "metadata": {},
   "outputs": [],
   "source": [
    "import math\n",
    "\n",
    "def A_Star(graph : dict[str, tuple[tuple, list]], start_node : str, desired_node : str, h):\n",
    "    closed_set = set()\n",
    "    open_set = {start_node}\n",
    "    \n",
    "    path = {val:'' for val in graph.keys()}\n",
    "    g_score = {val:math.inf.real for val in graph.keys()}\n",
    "    f_score = {val:math.inf.real for val in graph.keys()}\n",
    "    g_score[start_node] = 0.0\n",
    "    f_score[start_node] = h(graph[start_node][0], graph[desired_node][0])\n",
    "\n",
    "    while len(open_set) != 0:\n",
    "        tmp_custo = math.inf.real\n",
    "        node = str()\n",
    "        for tmp_node in open_set:\n",
    "            node = tmp_node\n",
    "            print(type(tmp_custo))\n",
    "            print(f_score[tmp_node])\n",
    "        if node == desired_node:\n",
    "            return build_path(path, desired_node)\n",
    "        \n",
    "        open_set.remove(node)\n",
    "        closed_set.add(node)\n",
    "\n",
    "        for v in graph[node]:\n",
    "            pass\n",
    "\n",
    "    return None"
   ]
  },
  {
   "cell_type": "code",
   "execution_count": 139,
   "metadata": {},
   "outputs": [],
   "source": [
    "graph = {\"A\" : ['B', 'D'], \"B\" : ['C', 'E'], \"C\": ['A'], \"D\": ['E'], \"E\": ['C', 'B']}"
   ]
  },
  {
   "cell_type": "code",
   "execution_count": 140,
   "metadata": {},
   "outputs": [
    {
     "data": {
      "text/plain": [
       "['A', 'D', 'E']"
      ]
     },
     "execution_count": 140,
     "metadata": {},
     "output_type": "execute_result"
    }
   ],
   "source": [
    "BFS(graph, \"A\", \"E\")"
   ]
  },
  {
   "cell_type": "code",
   "execution_count": 141,
   "metadata": {},
   "outputs": [
    {
     "data": {
      "text/plain": [
       "['A', 'B', 'E']"
      ]
     },
     "execution_count": 141,
     "metadata": {},
     "output_type": "execute_result"
    }
   ],
   "source": [
    "DFS(graph, \"A\", \"E\")"
   ]
  },
  {
   "cell_type": "code",
   "execution_count": 142,
   "metadata": {},
   "outputs": [
    {
     "data": {
      "text/plain": [
       "['A', 'B', 'E']"
      ]
     },
     "execution_count": 142,
     "metadata": {},
     "output_type": "execute_result"
    }
   ],
   "source": [
    "DFS_not_rec(graph, \"A\", \"E\")"
   ]
  },
  {
   "cell_type": "code",
   "execution_count": 143,
   "metadata": {},
   "outputs": [
    {
     "data": {
      "text/plain": [
       "['A', 'B', 'E']"
      ]
     },
     "execution_count": 143,
     "metadata": {},
     "output_type": "execute_result"
    }
   ],
   "source": [
    "IDDFS(graph, \"A\", \"E\")"
   ]
  },
  {
   "cell_type": "code",
   "execution_count": 144,
   "metadata": {},
   "outputs": [],
   "source": [
    "def euclidian_heu(pos_node, desired_pos):\n",
    "    return ((pos_node[0]-desired_pos[0])+(pos_node[1]-desired_pos[1]))**0.5"
   ]
  },
  {
   "cell_type": "code",
   "execution_count": 145,
   "metadata": {},
   "outputs": [
    {
     "ename": "TypeError",
     "evalue": "'float' object is not subscriptable",
     "output_type": "error",
     "traceback": [
      "\u001b[1;31m---------------------------------------------------------------------------\u001b[0m",
      "\u001b[1;31mTypeError\u001b[0m                                 Traceback (most recent call last)",
      "Cell \u001b[1;32mIn[145], line 2\u001b[0m\n\u001b[0;32m      1\u001b[0m graph \u001b[38;5;241m=\u001b[39m {\u001b[38;5;124m'\u001b[39m\u001b[38;5;124mA\u001b[39m\u001b[38;5;124m'\u001b[39m: [(\u001b[38;5;241m0\u001b[39m, \u001b[38;5;241m0\u001b[39m), {\u001b[38;5;124m'\u001b[39m\u001b[38;5;124mB\u001b[39m\u001b[38;5;124m'\u001b[39m: \u001b[38;5;241m5\u001b[39m}], \u001b[38;5;124m'\u001b[39m\u001b[38;5;124mE\u001b[39m\u001b[38;5;124m'\u001b[39m: [(\u001b[38;5;241m2\u001b[39m, \u001b[38;5;241m2\u001b[39m)]}\n\u001b[1;32m----> 2\u001b[0m A_Star(graph, \u001b[38;5;124m'\u001b[39m\u001b[38;5;124mA\u001b[39m\u001b[38;5;124m'\u001b[39m, \u001b[38;5;124m'\u001b[39m\u001b[38;5;124mE\u001b[39m\u001b[38;5;124m'\u001b[39m, euclidian_heu)\n",
      "Cell \u001b[1;32mIn[138], line 8\u001b[0m, in \u001b[0;36mA_Star\u001b[1;34m(graph, start_node, desired_node, h)\u001b[0m\n\u001b[0;32m      5\u001b[0m open_set \u001b[38;5;241m=\u001b[39m {start_node}\n\u001b[0;32m      7\u001b[0m path \u001b[38;5;241m=\u001b[39m {val:\u001b[38;5;124m'\u001b[39m\u001b[38;5;124m'\u001b[39m \u001b[38;5;28;01mfor\u001b[39;00m val \u001b[38;5;129;01min\u001b[39;00m graph\u001b[38;5;241m.\u001b[39mkeys()}\n\u001b[1;32m----> 8\u001b[0m g_score \u001b[38;5;241m=\u001b[39m {val:math\u001b[38;5;241m.\u001b[39minf[\u001b[38;5;241m0\u001b[39m] \u001b[38;5;28;01mfor\u001b[39;00m val \u001b[38;5;129;01min\u001b[39;00m graph\u001b[38;5;241m.\u001b[39mkeys()}\n\u001b[0;32m      9\u001b[0m f_score \u001b[38;5;241m=\u001b[39m {val:math\u001b[38;5;241m.\u001b[39minf\u001b[38;5;241m.\u001b[39mreal \u001b[38;5;28;01mfor\u001b[39;00m val \u001b[38;5;129;01min\u001b[39;00m graph\u001b[38;5;241m.\u001b[39mkeys()}\n\u001b[0;32m     10\u001b[0m g_score[start_node] \u001b[38;5;241m=\u001b[39m \u001b[38;5;241m0.0\u001b[39m\n",
      "Cell \u001b[1;32mIn[138], line 8\u001b[0m, in \u001b[0;36m<dictcomp>\u001b[1;34m(.0)\u001b[0m\n\u001b[0;32m      5\u001b[0m open_set \u001b[38;5;241m=\u001b[39m {start_node}\n\u001b[0;32m      7\u001b[0m path \u001b[38;5;241m=\u001b[39m {val:\u001b[38;5;124m'\u001b[39m\u001b[38;5;124m'\u001b[39m \u001b[38;5;28;01mfor\u001b[39;00m val \u001b[38;5;129;01min\u001b[39;00m graph\u001b[38;5;241m.\u001b[39mkeys()}\n\u001b[1;32m----> 8\u001b[0m g_score \u001b[38;5;241m=\u001b[39m {val:math\u001b[38;5;241m.\u001b[39minf[\u001b[38;5;241m0\u001b[39m] \u001b[38;5;28;01mfor\u001b[39;00m val \u001b[38;5;129;01min\u001b[39;00m graph\u001b[38;5;241m.\u001b[39mkeys()}\n\u001b[0;32m      9\u001b[0m f_score \u001b[38;5;241m=\u001b[39m {val:math\u001b[38;5;241m.\u001b[39minf\u001b[38;5;241m.\u001b[39mreal \u001b[38;5;28;01mfor\u001b[39;00m val \u001b[38;5;129;01min\u001b[39;00m graph\u001b[38;5;241m.\u001b[39mkeys()}\n\u001b[0;32m     10\u001b[0m g_score[start_node] \u001b[38;5;241m=\u001b[39m \u001b[38;5;241m0.0\u001b[39m\n",
      "\u001b[1;31mTypeError\u001b[0m: 'float' object is not subscriptable"
     ]
    }
   ],
   "source": [
    "graph = {'A': [(0, 0), {'B': 5}], 'E': [(2, 2)]}\n",
    "A_Star(graph, 'A', 'E', euclidian_heu)"
   ]
  },
  {
   "cell_type": "code",
   "execution_count": null,
   "metadata": {},
   "outputs": [],
   "source": []
  },
  {
   "cell_type": "code",
   "execution_count": null,
   "metadata": {},
   "outputs": [],
   "source": []
  }
 ],
 "metadata": {
  "kernelspec": {
   "display_name": "base",
   "language": "python",
   "name": "python3"
  },
  "language_info": {
   "codemirror_mode": {
    "name": "ipython",
    "version": 3
   },
   "file_extension": ".py",
   "mimetype": "text/x-python",
   "name": "python",
   "nbconvert_exporter": "python",
   "pygments_lexer": "ipython3",
   "version": "3.11.7"
  }
 },
 "nbformat": 4,
 "nbformat_minor": 2
}
