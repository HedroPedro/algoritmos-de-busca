{
 "cells": [
  {
   "cell_type": "code",
   "execution_count": 317,
   "metadata": {},
   "outputs": [],
   "source": [
    "def build_path(path, start) -> list:\n",
    "    lst = []\n",
    "    while start != '':\n",
    "        lst.append(start)\n",
    "        start = path[start]\n",
    "    return list(reversed(lst))"
   ]
  },
  {
   "cell_type": "code",
   "execution_count": 318,
   "metadata": {},
   "outputs": [],
   "source": [
    "def DFS(graph : dict[str, list], start_node : str, desired_node : str):\n",
    "    visited_nodes = set()\n",
    "    path = {val:'' for val in graph.keys()}\n",
    "    def loop(graph, node, d_node, visited, path, prev):\n",
    "        if node is None:\n",
    "            return None\n",
    "        \n",
    "        path[node] = prev\n",
    "        if node == d_node:\n",
    "            return d_node\n",
    "        \n",
    "        visited.add(node)\n",
    "\n",
    "        for val in graph[node]:\n",
    "            if val not in visited:\n",
    "                if loop(graph, val, d_node, visited_nodes, path, node) == d_node:\n",
    "                    return d_node\n",
    "    if loop(graph, start_node, desired_node, visited_nodes, path, '') == desired_node:\n",
    "        return build_path(path, desired_node)\n",
    "    \n",
    "    return None"
   ]
  },
  {
   "cell_type": "code",
   "execution_count": 390,
   "metadata": {},
   "outputs": [],
   "source": [
    "def DFS_not_rec(graph : dict[str, list], node : str, desired_node : str):\n",
    "    visited_nodes = {node}\n",
    "    path = {val:'' for val in graph.keys()}\n",
    "    stack = [i for i in reversed(graph[node])]\n",
    "\n",
    "    prev = node\n",
    "\n",
    "    while len(stack) != 0:\n",
    "        node = stack.pop()\n",
    "        path[node] = prev\n",
    "        prev = node\n",
    "\n",
    "        if node == desired_node:\n",
    "            return build_path(path, desired_node)\n",
    "        \n",
    "        visited_nodes.add(node)\n",
    "\n",
    "        for val in graph[node]:\n",
    "            if val not in visited_nodes:\n",
    "                stack.append(val)\n",
    "    return None\n"
   ]
  },
  {
   "cell_type": "code",
   "execution_count": null,
   "metadata": {},
   "outputs": [],
   "source": [
    "# TODO: verificar depois\n",
    "\n",
    "def BFS(graph : dict[str, list], node : str, desired_node : str):\n",
    "    fila  = [node]\n",
    "    visited_nodes = set()\n",
    "    path = {val:\"\" for val in graph.keys()}\n",
    "    prev = ''\n",
    "\n",
    "    while len(fila) != 0:\n",
    "        node = fila.pop(0)\n",
    "        path[node] = prev\n",
    "        prev = node\n",
    "\n",
    "        if node == desired_node:\n",
    "            print(path)\n",
    "            return build_path(path, desired_node)\n",
    "        \n",
    "        visited_nodes.add(node)\n",
    "\n",
    "        for val in graph[node]:\n",
    "            if val not in visited_nodes:\n",
    "                fila.append(val)\n",
    "        \n",
    "    return None"
   ]
  },
  {
   "cell_type": "code",
   "execution_count": null,
   "metadata": {},
   "outputs": [],
   "source": [
    "def A_Star(graph : dict[str, list], start_node, desired_node : str):\n",
    "    return"
   ]
  },
  {
   "cell_type": "code",
   "execution_count": 418,
   "metadata": {},
   "outputs": [],
   "source": [
    "path = []\n",
    "graph = {\"A\" : ['B', 'D'], \"B\" : ['C', 'E'], \"C\": ['A'], \"D\": ['E'], \"E\": ['C', 'B']}"
   ]
  },
  {
   "cell_type": "code",
   "execution_count": 419,
   "metadata": {},
   "outputs": [
    {
     "data": {
      "text/plain": [
       "['A', 'B', 'E']"
      ]
     },
     "execution_count": 419,
     "metadata": {},
     "output_type": "execute_result"
    }
   ],
   "source": [
    "DFS(graph, \"A\", \"E\")"
   ]
  },
  {
   "cell_type": "code",
   "execution_count": 420,
   "metadata": {},
   "outputs": [
    {
     "name": "stdout",
     "output_type": "stream",
     "text": [
      "['A']\n",
      "['B', 'D']\n",
      "['D', 'C', 'E']\n",
      "['C', 'E', 'E']\n",
      "['E', 'E']\n",
      "{'A': '', 'B': 'A', 'C': 'D', 'D': 'B', 'E': 'C'}\n"
     ]
    },
    {
     "data": {
      "text/plain": [
       "['A', 'B', 'D', 'C', 'E']"
      ]
     },
     "execution_count": 420,
     "metadata": {},
     "output_type": "execute_result"
    }
   ],
   "source": [
    "BFS(graph, \"A\", \"E\")"
   ]
  },
  {
   "cell_type": "code",
   "execution_count": 400,
   "metadata": {},
   "outputs": [
    {
     "data": {
      "text/plain": [
       "['A', 'B', 'E']"
      ]
     },
     "execution_count": 400,
     "metadata": {},
     "output_type": "execute_result"
    }
   ],
   "source": [
    "DFS_not_rec(graph, \"A\", \"E\")"
   ]
  },
  {
   "cell_type": "code",
   "execution_count": null,
   "metadata": {},
   "outputs": [],
   "source": []
  }
 ],
 "metadata": {
  "kernelspec": {
   "display_name": "base",
   "language": "python",
   "name": "python3"
  },
  "language_info": {
   "codemirror_mode": {
    "name": "ipython",
    "version": 3
   },
   "file_extension": ".py",
   "mimetype": "text/x-python",
   "name": "python",
   "nbconvert_exporter": "python",
   "pygments_lexer": "ipython3",
   "version": "3.11.7"
  }
 },
 "nbformat": 4,
 "nbformat_minor": 2
}
